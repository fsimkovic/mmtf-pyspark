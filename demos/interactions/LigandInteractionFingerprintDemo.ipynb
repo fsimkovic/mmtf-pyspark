{
 "cells": [
  {
   "cell_type": "markdown",
   "metadata": {},
   "source": [
    "# Example of using PySpark to find ligand interaction fingerprint\n",
    "\n",
    "Demo how to calculate ligand-polymer interaction data and maps it to polymer chains."
   ]
  },
  {
   "cell_type": "markdown",
   "metadata": {},
   "source": [
    "## Imports and variables"
   ]
  },
  {
   "cell_type": "code",
   "execution_count": 2,
   "metadata": {
    "scrolled": true
   },
   "outputs": [],
   "source": [
    "from pyspark.sql import SparkSession                  \n",
    "from mmtfPyspark.io import mmtfReader\n",
    "from mmtfPyspark.interactions import InteractionFilter, InteractionFingerprinter                                 "
   ]
  },
  {
   "cell_type": "markdown",
   "metadata": {},
   "source": [
    "#### Configure Spark "
   ]
  },
  {
   "cell_type": "code",
   "execution_count": 2,
   "metadata": {},
   "outputs": [],
   "source": [
    "spark = SparkSession.builder.master(\"local[4]\") \\\n",
    "                                 .appName(\"LigandInteractionFingerprintDemo\") \\\n",
    "                                 .getOrCreate()"
   ]
  },
  {
   "cell_type": "markdown",
   "metadata": {},
   "source": [
    "## Download 1OHR structure"
   ]
  },
  {
   "cell_type": "code",
   "execution_count": 2,
   "metadata": {},
   "outputs": [],
   "source": [
    "pdb = mmtfReader.download_mmtf_files(['1OHR'])"
   ]
  },
  {
   "cell_type": "markdown",
   "metadata": {},
   "source": [
    "## Find interactions of small molecules (except water)"
   ]
  },
  {
   "cell_type": "code",
   "execution_count": 3,
   "metadata": {},
   "outputs": [
    {
     "data": {
      "text/html": [
       "<div>\n",
       "<style scoped>\n",
       "    .dataframe tbody tr th:only-of-type {\n",
       "        vertical-align: middle;\n",
       "    }\n",
       "\n",
       "    .dataframe tbody tr th {\n",
       "        vertical-align: top;\n",
       "    }\n",
       "\n",
       "    .dataframe thead th {\n",
       "        text-align: right;\n",
       "    }\n",
       "</style>\n",
       "<table border=\"1\" class=\"dataframe\">\n",
       "  <thead>\n",
       "    <tr style=\"text-align: right;\">\n",
       "      <th></th>\n",
       "      <th>structureChainId</th>\n",
       "      <th>queryLigandId</th>\n",
       "      <th>queryLigandNumber</th>\n",
       "      <th>queryLigandChainId</th>\n",
       "      <th>targetChainId</th>\n",
       "      <th>groupNumbers</th>\n",
       "      <th>sequenceIndices</th>\n",
       "      <th>sequence</th>\n",
       "      <th>interactingChains</th>\n",
       "    </tr>\n",
       "  </thead>\n",
       "  <tbody>\n",
       "    <tr>\n",
       "      <th>0</th>\n",
       "      <td>1OHR.A</td>\n",
       "      <td>1UN</td>\n",
       "      <td>201</td>\n",
       "      <td>A</td>\n",
       "      <td>A</td>\n",
       "      <td>[25, 27, 28, 29, 30, 49, 50, 80, 81, 82, 84]</td>\n",
       "      <td>[24, 26, 27, 28, 29, 48, 49, 79, 80, 81, 83]</td>\n",
       "      <td>PQITLWQRPLVTIKIGGQLKEALLDTGADDTVLEEMSLPGRWKPKM...</td>\n",
       "      <td>2</td>\n",
       "    </tr>\n",
       "    <tr>\n",
       "      <th>1</th>\n",
       "      <td>1OHR.B</td>\n",
       "      <td>1UN</td>\n",
       "      <td>201</td>\n",
       "      <td>A</td>\n",
       "      <td>B</td>\n",
       "      <td>[8, 23, 25, 27, 28, 29, 30, 32, 47, 48, 49, 50...</td>\n",
       "      <td>[7, 22, 24, 26, 27, 28, 29, 31, 46, 47, 48, 49...</td>\n",
       "      <td>PQITLWQRPLVTIKIGGQLKEALLDTGADDTVLEEMSLPGRWKPKM...</td>\n",
       "      <td>2</td>\n",
       "    </tr>\n",
       "  </tbody>\n",
       "</table>\n",
       "</div>"
      ],
      "text/plain": [
       "  structureChainId queryLigandId queryLigandNumber queryLigandChainId  \\\n",
       "0           1OHR.A           1UN               201                  A   \n",
       "1           1OHR.B           1UN               201                  A   \n",
       "\n",
       "  targetChainId                                       groupNumbers  \\\n",
       "0             A       [25, 27, 28, 29, 30, 49, 50, 80, 81, 82, 84]   \n",
       "1             B  [8, 23, 25, 27, 28, 29, 30, 32, 47, 48, 49, 50...   \n",
       "\n",
       "                                     sequenceIndices  \\\n",
       "0       [24, 26, 27, 28, 29, 48, 49, 79, 80, 81, 83]   \n",
       "1  [7, 22, 24, 26, 27, 28, 29, 31, 46, 47, 48, 49...   \n",
       "\n",
       "                                            sequence  interactingChains  \n",
       "0  PQITLWQRPLVTIKIGGQLKEALLDTGADDTVLEEMSLPGRWKPKM...                  2  \n",
       "1  PQITLWQRPLVTIKIGGQLKEALLDTGADDTVLEEMSLPGRWKPKM...                  2  "
      ]
     },
     "execution_count": 3,
     "metadata": {},
     "output_type": "execute_result"
    }
   ],
   "source": [
    "interactionFilter = InteractionFilter()\n",
    "interactionFilter.set_distance_cutoff(4.0)\n",
    "interactionFilter.set_query_groups(False, \"HOH\") # ignore water interactions\n",
    "\n",
    "interactions = InteractionFingerprinter.get_ligand_polymer_interactions(pdb, interactionFilter)\n",
    "interactions.toPandas().head(10)    "
   ]
  },
  {
   "cell_type": "markdown",
   "metadata": {},
   "source": [
    "## Terminate Spark"
   ]
  },
  {
   "cell_type": "code",
   "execution_count": 3,
   "metadata": {},
   "outputs": [],
   "source": [
    "spark.stop()"
   ]
  }
 ],
 "metadata": {
  "kernelspec": {
   "display_name": "Python 3",
   "language": "python",
   "name": "python3"
  },
  "language_info": {
   "codemirror_mode": {
    "name": "ipython",
    "version": 3
   },
   "file_extension": ".py",
   "mimetype": "text/x-python",
   "name": "python",
   "nbconvert_exporter": "python",
   "pygments_lexer": "ipython3",
   "version": "3.6.4"
  }
 },
 "nbformat": 4,
 "nbformat_minor": 2
}
