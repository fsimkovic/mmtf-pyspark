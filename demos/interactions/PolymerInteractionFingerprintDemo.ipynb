{
 "cells": [
  {
   "cell_type": "markdown",
   "metadata": {},
   "source": [
    "# Example of using PySpark to find polymer interaction fingerprint\n",
    "\n",
    "Demo how to calculate polymer interaction data and maps it to polymer chains."
   ]
  },
  {
   "cell_type": "markdown",
   "metadata": {},
   "source": [
    "## Imports and variables"
   ]
  },
  {
   "cell_type": "code",
   "execution_count": 1,
   "metadata": {
    "scrolled": true
   },
   "outputs": [],
   "source": [
    "from pyspark.sql import SparkSession                  \n",
    "from mmtfPyspark.io import mmtfReader\n",
    "from mmtfPyspark.interactions import InteractionFilter, InteractionFingerprinter                                 "
   ]
  },
  {
   "cell_type": "markdown",
   "metadata": {},
   "source": [
    "#### Configure Spark "
   ]
  },
  {
   "cell_type": "code",
   "execution_count": 2,
   "metadata": {},
   "outputs": [],
   "source": [
    "spark = SparkSession.builder.master(\"local[4]\") \\\n",
    "                                 .appName(\"PolymerInteractionFingerprintDemo\") \\\n",
    "                                 .getOrCreate()"
   ]
  },
  {
   "cell_type": "markdown",
   "metadata": {},
   "source": [
    "## Download 1OHR structure"
   ]
  },
  {
   "cell_type": "code",
   "execution_count": 2,
   "metadata": {},
   "outputs": [],
   "source": [
    "pdb = mmtfReader.download_mmtf_files(['1OHR'])"
   ]
  },
  {
   "cell_type": "markdown",
   "metadata": {},
   "source": [
    "## Find ASP-ARG salt bridges"
   ]
  },
  {
   "cell_type": "code",
   "execution_count": 3,
   "metadata": {},
   "outputs": [
    {
     "data": {
      "text/html": [
       "<div>\n",
       "<style scoped>\n",
       "    .dataframe tbody tr th:only-of-type {\n",
       "        vertical-align: middle;\n",
       "    }\n",
       "\n",
       "    .dataframe tbody tr th {\n",
       "        vertical-align: top;\n",
       "    }\n",
       "\n",
       "    .dataframe thead th {\n",
       "        text-align: right;\n",
       "    }\n",
       "</style>\n",
       "<table border=\"1\" class=\"dataframe\">\n",
       "  <thead>\n",
       "    <tr style=\"text-align: right;\">\n",
       "      <th></th>\n",
       "      <th>structureChainId</th>\n",
       "      <th>queryChainId</th>\n",
       "      <th>targetChainId</th>\n",
       "      <th>groupNumbers</th>\n",
       "      <th>sequenceIndices</th>\n",
       "      <th>sequence</th>\n",
       "    </tr>\n",
       "  </thead>\n",
       "  <tbody>\n",
       "    <tr>\n",
       "      <th>0</th>\n",
       "      <td>1OHR.A</td>\n",
       "      <td>B</td>\n",
       "      <td>A</td>\n",
       "      <td>[8]</td>\n",
       "      <td>[7]</td>\n",
       "      <td>PQITLWQRPLVTIKIGGQLKEALLDTGADDTVLEEMSLPGRWKPKM...</td>\n",
       "    </tr>\n",
       "    <tr>\n",
       "      <th>1</th>\n",
       "      <td>1OHR.B</td>\n",
       "      <td>A</td>\n",
       "      <td>B</td>\n",
       "      <td>[8]</td>\n",
       "      <td>[7]</td>\n",
       "      <td>PQITLWQRPLVTIKIGGQLKEALLDTGADDTVLEEMSLPGRWKPKM...</td>\n",
       "    </tr>\n",
       "  </tbody>\n",
       "</table>\n",
       "</div>"
      ],
      "text/plain": [
       "  structureChainId queryChainId targetChainId groupNumbers sequenceIndices  \\\n",
       "0           1OHR.A            B             A          [8]             [7]   \n",
       "1           1OHR.B            A             B          [8]             [7]   \n",
       "\n",
       "                                            sequence  \n",
       "0  PQITLWQRPLVTIKIGGQLKEALLDTGADDTVLEEMSLPGRWKPKM...  \n",
       "1  PQITLWQRPLVTIKIGGQLKEALLDTGADDTVLEEMSLPGRWKPKM...  "
      ]
     },
     "execution_count": 3,
     "metadata": {},
     "output_type": "execute_result"
    }
   ],
   "source": [
    "interactionFilter = InteractionFilter(distanceCutoff=3.5, minInteractions=1)\n",
    "interactionFilter.set_query_groups(True, \"ASP\")\n",
    "interactionFilter.set_query_atom_names(True, ['OD1','OD2'])\n",
    "interactionFilter.set_target_groups(True, \"ARG\")\n",
    "interactionFilter.set_target_atom_names(True, ['NH1','NH2'])\n",
    "\n",
    "interactions = InteractionFingerprinter.get_polymer_interactions(pdb, interactionFilter)\n",
    "interactions.toPandas().head(10)    "
   ]
  },
  {
   "cell_type": "markdown",
   "metadata": {},
   "source": [
    "## Terminate Spark"
   ]
  },
  {
   "cell_type": "code",
   "execution_count": null,
   "metadata": {},
   "outputs": [],
   "source": [
    "spark.stop()"
   ]
  }
 ],
 "metadata": {
  "kernelspec": {
   "display_name": "Python 3",
   "language": "python",
   "name": "python3"
  },
  "language_info": {
   "codemirror_mode": {
    "name": "ipython",
    "version": 3
   },
   "file_extension": ".py",
   "mimetype": "text/x-python",
   "name": "python",
   "nbconvert_exporter": "python",
   "pygments_lexer": "ipython3",
   "version": "3.6.4"
  }
 },
 "nbformat": 4,
 "nbformat_minor": 2
}
