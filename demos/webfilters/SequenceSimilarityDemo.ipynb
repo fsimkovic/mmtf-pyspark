{
 "cells": [
  {
   "cell_type": "markdown",
   "metadata": {},
   "source": [
    "# Sequence Similarity Search Demo\n",
    "\n",
    "This demo filters PDB chains by sequence similarity using RCSB PDB webservices.\n",
    "\n",
    "\n",
    "## Imports"
   ]
  },
  {
   "cell_type": "code",
   "execution_count": 1,
   "metadata": {},
   "outputs": [],
   "source": [
    "from pyspark.sql import SparkSession\n",
    "from mmtfPyspark.webfilters import SequenceSimilarity\n",
    "from mmtfPyspark.mappers import StructureToPolymerChains\n",
    "from mmtfPyspark.io import mmtfReader"
   ]
  },
  {
   "cell_type": "markdown",
   "metadata": {},
   "source": [
    "#### Configure Spark "
   ]
  },
  {
   "cell_type": "code",
   "execution_count": 2,
   "metadata": {},
   "outputs": [],
   "source": [
    "spark = SparkSession.builder.master(\"local[4]\") \\\n",
    "                                 .appName(\"SequenceSimilarityDemo\") \\\n",
    "                                 .getOrCreate()"
   ]
  },
  {
   "cell_type": "markdown",
   "metadata": {
    "collapsed": true
   },
   "source": [
    "## Read PDB in MMTF format, split into polymer chain, search by sequence similarity, and print sequence found"
   ]
  },
  {
   "cell_type": "code",
   "execution_count": 6,
   "metadata": {},
   "outputs": [
    {
     "name": "stdout",
     "output_type": "stream",
     "text": [
      "2H4C.A :     NFFQFAEMIVKMTGKEAVHSYAIYGCYCGWGGQGKPQDATDRCCFVHDCCYGTVNDCNPKMATYSYSFENGDIVCGDNNLCLKTVCECDRAAAICLGQNVNTYDKNYENYAISHCTEESEQC\n",
      "2H4C.C :     NFFQFAEMIVKMTGKEAVHSYAIYGCYCGWGGQGKPQDATDRCCFVHDCCYGTVNDCNPKMATYSYSFENGDIVCGDNNLCLKTVCECDRAAAICLGQNVNTYDKNYENYAISHCTEESEQC\n",
      "2H4C.E :     NFFQFAEMIVKMTGKEAVHSYAIYGCYCGWGGQGKPQDATDRCCFVHDCCYGTVNDCNPKMATYSYSFENGDIVCGDNNLCLKTVCECDRAAAICLGQNVNTYDKNYENYAISHCTEESEQC\n",
      "2H4C.G :     NFFQFAEMIVKMTGKEAVHSYAIYGCYCGWGGQGKPQDATDRCCFVHDCCYGTVNDCNPKMATYSYSFENGDIVCGDNNLCLKTVCECDRAAAICLGQNVNTYDKNYENYAISHCTEESEQC\n",
      "1GP7.A :     MNPAHLLVLSAVCVSLLGASSIPPQPLHLIQFGNMIQCTVPGFLSWIKYADYGCYCGAGGSGTPVDKLDRCCQVHDNCYTQAQKLPACSSIMDSPYVKIYSYDCSERTVTCKADNDECAAFICNCDRVAAHCFAASPYNNNNYNIDTTTRC\n",
      "1GP7.B :     MNPAHLLVLSAVCVSLLGASSIPPQPLHLIQFGNMIQCTVPGFLSWIKYADYGCYCGAGGSGTPVDKLDRCCQVHDNCYTQAQKLPACSSIMDSPYVKIYSYDCSERTVTCKADNDECAAFICNCDRVAAHCFAASPYNNNNYNIDTTTRC\n",
      "1GP7.C :     MNPAHLLVLSAVCVSLLGASSIPPQPLHLIQFGNMIQCTVPGFLSWIKYADYGCYCGAGGSGTPVDKLDRCCQVHDNCYTQAQKLPACSSIMDSPYVKIYSYDCSERTVTCKADNDECAAFICNCDRVAAHCFAASPYNNNNYNIDTTTRC\n",
      "3V9M.A :     NLIQFGNMIQCANKGSRPSLDYADYGCYCGWGGSGTPVDELDRCCQVHDNCYEQAGKKGCFPKLTLYSWKCTGNVPTCNSKPGCKSFVCACDAAAAKCFAKAPYKKENYNIDTKKRCK\n",
      "3V9M.B :     NLIQFGNMIQCANKGSRPSLDYADYGCYCGWGGSGTPVDELDRCCQVHDNCYEQAGKKGCFPKLTLYSWKCTGNVPTCNSKPGCKSFVCACDAAAAKCFAKAPYKKENYNIDTKKRCK\n",
      "3VC0.A :     NLVQFGKMIECAIRNRRPALDFMNYGCYCGKGGSGTPVDDLDRCCQVHDECYAEAEKHGCYPSLTTYTWECRQVGPYCNSKTQCEVFVCACDFAAAKCFAQEDYNPAHSNINTGERCK\n",
      "1VAP.A :     NLFQFEKLIKKMTGKSGMLWYSAYGCYCGWGGQGRPKDATDRCCFVHDCCYGKVTGCNPKMDIYTYSVDNGNIVCGGTNPCKKQICECDRAAAICFRDNLKTYDSKTYWKYPKKNCKEESEPC\n",
      "1VAP.B :     NLFQFEKLIKKMTGKSGMLWYSAYGCYCGWGGQGRPKDATDRCCFVHDCCYGKVTGCNPKMDIYTYSVDNGNIVCGGTNPCKKQICECDRAAAICFRDNLKTYDSKTYWKYPKKNCKEESEPC\n",
      "1VIP.A :     NLFQFAEMIVKMTGKNPLSSYSDYGCYCGWGGKGKPQDATDRCCFVHDCCYEKVKSCKPKLSLYSYSFQNGGIVCGDNHSCKRAVCECDRVAATCFRDNLNTYDKKYHNYPPSQCTGTEQC\n"
     ]
    }
   ],
   "source": [
    "path = \"../../resources/mmtf_reduced_sample/\"\n",
    "\n",
    "pdb = mmtfReader.read_sequence_file(path) \\\n",
    "                .flatMap(StructureToPolymerChains()) \\\n",
    "                .filter(SequenceSimilarity(sequence=\"NLVQFGVMIEKMTGKSALQYNDYGCYCGIGGSHWPVDQ\",\\\n",
    "                                           searchTool=SequenceSimilarity.BLAST, \\\n",
    "                                           eValueCutoff=0.001, \\\n",
    "                                           sequenceIdentityCutoff=40, \\\n",
    "                                           maskLowComplexity=True)) \\\n",
    "                .collect()\n",
    "\n",
    "for pdbId, structure in pdb:\n",
    "        print(f\"{pdbId} :     {structure.entity_list[0]['sequence']}\")"
   ]
  },
  {
   "cell_type": "markdown",
   "metadata": {},
   "source": [
    "## Terminate Spark Context"
   ]
  },
  {
   "cell_type": "code",
   "execution_count": 7,
   "metadata": {},
   "outputs": [],
   "source": [
    "spark.stop()"
   ]
  }
 ],
 "metadata": {
  "kernelspec": {
   "display_name": "Python 3",
   "language": "python",
   "name": "python3"
  },
  "language_info": {
   "codemirror_mode": {
    "name": "ipython",
    "version": 3
   },
   "file_extension": ".py",
   "mimetype": "text/x-python",
   "name": "python",
   "nbconvert_exporter": "python",
   "pygments_lexer": "ipython3",
   "version": "3.6.4"
  }
 },
 "nbformat": 4,
 "nbformat_minor": 2
}
